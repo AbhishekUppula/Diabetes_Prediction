{
 "cells": [
  {
   "cell_type": "markdown",
   "id": "f69c3c28",
   "metadata": {},
   "source": [
    "# Diabetes Prediction\n",
    "\n",
    "This notebook looks into using various Python-based machine learning and data science libraries in an attempt to build a machine learning model capable of predicting diabetes\n",
    "\n",
    "We're going to take the following approach:\n",
    "\n",
    "1. Features\n",
    "2. Evaluation\n",
    "3. Data Visualization\n",
    "4. Modelling\n",
    "\n",
    "## 1. Features\n",
    "\n",
    "Below are columns in dataset\n",
    "\n",
    "Number of times pregnant\n",
    "\n",
    "Plasma glucose concentration a 2 hours in an oral glucose tolerance test\n",
    "\n",
    "Diastolic blood pressure (mm Hg)\n",
    "\n",
    "Triceps skin fold thickness (mm)\n",
    "\n",
    "2-Hour serum insulin (mu U/ml)\n",
    "\n",
    "Body mass index (weight in kg/(height in m)^2)\n",
    "\n",
    "Diabetes pedigree function\n",
    "\n",
    "Age (years)\n",
    "\n",
    "Class variable (0 or 1)\n",
    "\n",
    "\n",
    "## 2. Evaluation\n",
    "\n",
    "The Accuracy of the test data predictions.\n",
    "\n",
    "Accuracy= No of Correct Predictions/Total No of Predictions\n",
    "\n"
   ]
  },
  {
   "cell_type": "code",
   "execution_count": 52,
   "id": "8ec29b00",
   "metadata": {},
   "outputs": [],
   "source": [
    "import pandas as pd\n",
    "import matplotlib.pyplot as plt\n",
    "import seaborn as sns\n",
    "import os\n",
    "import  opendatasets as od\n",
    "import numpy as np"
   ]
  },
  {
   "cell_type": "code",
   "execution_count": 4,
   "id": "00c9d9c4",
   "metadata": {},
   "outputs": [
    {
     "name": "stdout",
     "output_type": "stream",
     "text": [
      "Please provide your Kaggle credentials to download this dataset. Learn more: http://bit.ly/kaggle-creds\n",
      "Your Kaggle username: uppulaabhishek\n",
      "Your Kaggle Key: ········\n"
     ]
    },
    {
     "name": "stderr",
     "output_type": "stream",
     "text": [
      "100%|█████████████████████████████████████████████████████████████████████████████████| 11.4k/11.4k [00:00<00:00, 749kB/s]"
     ]
    },
    {
     "name": "stdout",
     "output_type": "stream",
     "text": [
      "Downloading diabetes-classification.zip to .\\diabetes-classification\n",
      "\n",
      "Extracting archive .\\diabetes-classification/diabetes-classification.zip to .\\diabetes-classification\n"
     ]
    },
    {
     "name": "stderr",
     "output_type": "stream",
     "text": [
      "\n"
     ]
    }
   ],
   "source": [
    "od.download('https://www.kaggle.com/c/diabetes-classification')"
   ]
  },
  {
   "cell_type": "code",
   "execution_count": 6,
   "id": "ba6254d0",
   "metadata": {},
   "outputs": [
    {
     "data": {
      "text/plain": [
       "['sample_submission.csv', 'test.csv', 'train.csv']"
      ]
     },
     "execution_count": 6,
     "metadata": {},
     "output_type": "execute_result"
    }
   ],
   "source": [
    "os.listdir('./diabetes-classification')"
   ]
  },
  {
   "cell_type": "code",
   "execution_count": 8,
   "id": "7e13b8a0",
   "metadata": {},
   "outputs": [],
   "source": [
    "dataset = pd.read_csv('./diabetes-classification/train.csv')"
   ]
  },
  {
   "cell_type": "code",
   "execution_count": 11,
   "id": "ad0d48e6",
   "metadata": {},
   "outputs": [
    {
     "data": {
      "text/html": [
       "<div>\n",
       "<style scoped>\n",
       "    .dataframe tbody tr th:only-of-type {\n",
       "        vertical-align: middle;\n",
       "    }\n",
       "\n",
       "    .dataframe tbody tr th {\n",
       "        vertical-align: top;\n",
       "    }\n",
       "\n",
       "    .dataframe thead th {\n",
       "        text-align: right;\n",
       "    }\n",
       "</style>\n",
       "<table border=\"1\" class=\"dataframe\">\n",
       "  <thead>\n",
       "    <tr style=\"text-align: right;\">\n",
       "      <th></th>\n",
       "      <th>p_id</th>\n",
       "      <th>no_times_pregnant</th>\n",
       "      <th>glucose_concentration</th>\n",
       "      <th>blood_pressure</th>\n",
       "      <th>skin_fold_thickness</th>\n",
       "      <th>serum_insulin</th>\n",
       "      <th>bmi</th>\n",
       "      <th>diabetes pedigree</th>\n",
       "      <th>age</th>\n",
       "      <th>diabetes</th>\n",
       "    </tr>\n",
       "  </thead>\n",
       "  <tbody>\n",
       "    <tr>\n",
       "      <th>0</th>\n",
       "      <td>316</td>\n",
       "      <td>2</td>\n",
       "      <td>112</td>\n",
       "      <td>68</td>\n",
       "      <td>22</td>\n",
       "      <td>94</td>\n",
       "      <td>34.1</td>\n",
       "      <td>0.315</td>\n",
       "      <td>26</td>\n",
       "      <td>0</td>\n",
       "    </tr>\n",
       "    <tr>\n",
       "      <th>1</th>\n",
       "      <td>25</td>\n",
       "      <td>11</td>\n",
       "      <td>143</td>\n",
       "      <td>94</td>\n",
       "      <td>33</td>\n",
       "      <td>146</td>\n",
       "      <td>36.6</td>\n",
       "      <td>0.254</td>\n",
       "      <td>51</td>\n",
       "      <td>1</td>\n",
       "    </tr>\n",
       "    <tr>\n",
       "      <th>2</th>\n",
       "      <td>710</td>\n",
       "      <td>2</td>\n",
       "      <td>93</td>\n",
       "      <td>64</td>\n",
       "      <td>32</td>\n",
       "      <td>160</td>\n",
       "      <td>38.0</td>\n",
       "      <td>0.674</td>\n",
       "      <td>23</td>\n",
       "      <td>1</td>\n",
       "    </tr>\n",
       "    <tr>\n",
       "      <th>3</th>\n",
       "      <td>658</td>\n",
       "      <td>1</td>\n",
       "      <td>120</td>\n",
       "      <td>80</td>\n",
       "      <td>48</td>\n",
       "      <td>200</td>\n",
       "      <td>38.9</td>\n",
       "      <td>1.162</td>\n",
       "      <td>41</td>\n",
       "      <td>0</td>\n",
       "    </tr>\n",
       "    <tr>\n",
       "      <th>4</th>\n",
       "      <td>542</td>\n",
       "      <td>3</td>\n",
       "      <td>128</td>\n",
       "      <td>72</td>\n",
       "      <td>25</td>\n",
       "      <td>190</td>\n",
       "      <td>32.4</td>\n",
       "      <td>0.549</td>\n",
       "      <td>27</td>\n",
       "      <td>1</td>\n",
       "    </tr>\n",
       "  </tbody>\n",
       "</table>\n",
       "</div>"
      ],
      "text/plain": [
       "   p_id  no_times_pregnant  glucose_concentration  blood_pressure  \\\n",
       "0   316                  2                    112              68   \n",
       "1    25                 11                    143              94   \n",
       "2   710                  2                     93              64   \n",
       "3   658                  1                    120              80   \n",
       "4   542                  3                    128              72   \n",
       "\n",
       "   skin_fold_thickness  serum_insulin   bmi  diabetes pedigree  age  diabetes  \n",
       "0                   22             94  34.1              0.315   26         0  \n",
       "1                   33            146  36.6              0.254   51         1  \n",
       "2                   32            160  38.0              0.674   23         1  \n",
       "3                   48            200  38.9              1.162   41         0  \n",
       "4                   25            190  32.4              0.549   27         1  "
      ]
     },
     "execution_count": 11,
     "metadata": {},
     "output_type": "execute_result"
    }
   ],
   "source": [
    "dataset.head()"
   ]
  },
  {
   "cell_type": "code",
   "execution_count": 9,
   "id": "fc62a84d",
   "metadata": {},
   "outputs": [
    {
     "data": {
      "text/plain": [
       "(614, 10)"
      ]
     },
     "execution_count": 9,
     "metadata": {},
     "output_type": "execute_result"
    }
   ],
   "source": [
    "#Displaying Number of rows and columns in dataset\n",
    "dataset.shape"
   ]
  },
  {
   "cell_type": "code",
   "execution_count": 10,
   "id": "8016fa59",
   "metadata": {},
   "outputs": [
    {
     "name": "stdout",
     "output_type": "stream",
     "text": [
      "<class 'pandas.core.frame.DataFrame'>\n",
      "RangeIndex: 614 entries, 0 to 613\n",
      "Data columns (total 10 columns):\n",
      " #   Column                 Non-Null Count  Dtype  \n",
      "---  ------                 --------------  -----  \n",
      " 0   p_id                   614 non-null    int64  \n",
      " 1   no_times_pregnant      614 non-null    int64  \n",
      " 2   glucose_concentration  614 non-null    int64  \n",
      " 3   blood_pressure         614 non-null    int64  \n",
      " 4   skin_fold_thickness    614 non-null    int64  \n",
      " 5   serum_insulin          614 non-null    int64  \n",
      " 6   bmi                    614 non-null    float64\n",
      " 7   diabetes pedigree      614 non-null    float64\n",
      " 8   age                    614 non-null    int64  \n",
      " 9   diabetes               614 non-null    int64  \n",
      "dtypes: float64(2), int64(8)\n",
      "memory usage: 48.1 KB\n"
     ]
    }
   ],
   "source": [
    "#Checking for non null columns in given dataset\n",
    "dataset.info()"
   ]
  },
  {
   "cell_type": "code",
   "execution_count": 75,
   "id": "5ad7f05d",
   "metadata": {},
   "outputs": [
    {
     "data": {
      "text/plain": [
       "p_id                     0\n",
       "no_times_pregnant        0\n",
       "glucose_concentration    0\n",
       "blood_pressure           0\n",
       "skin_fold_thickness      0\n",
       "serum_insulin            0\n",
       "bmi                      0\n",
       "diabetes pedigree        0\n",
       "age                      0\n",
       "diabetes                 0\n",
       "dtype: int64"
      ]
     },
     "execution_count": 75,
     "metadata": {},
     "output_type": "execute_result"
    }
   ],
   "source": [
    "#Checking for missing values in dataset\n",
    "dataset.isna().sum()"
   ]
  },
  {
   "cell_type": "code",
   "execution_count": 76,
   "id": "82a3fddd",
   "metadata": {},
   "outputs": [
    {
     "data": {
      "text/html": [
       "<div>\n",
       "<style scoped>\n",
       "    .dataframe tbody tr th:only-of-type {\n",
       "        vertical-align: middle;\n",
       "    }\n",
       "\n",
       "    .dataframe tbody tr th {\n",
       "        vertical-align: top;\n",
       "    }\n",
       "\n",
       "    .dataframe thead th {\n",
       "        text-align: right;\n",
       "    }\n",
       "</style>\n",
       "<table border=\"1\" class=\"dataframe\">\n",
       "  <thead>\n",
       "    <tr style=\"text-align: right;\">\n",
       "      <th></th>\n",
       "      <th>no_times_pregnant</th>\n",
       "      <th>glucose_concentration</th>\n",
       "      <th>blood_pressure</th>\n",
       "      <th>skin_fold_thickness</th>\n",
       "      <th>serum_insulin</th>\n",
       "      <th>bmi</th>\n",
       "      <th>diabetes pedigree</th>\n",
       "      <th>age</th>\n",
       "      <th>diabetes</th>\n",
       "    </tr>\n",
       "  </thead>\n",
       "  <tbody>\n",
       "    <tr>\n",
       "      <th>count</th>\n",
       "      <td>614.000000</td>\n",
       "      <td>614.000000</td>\n",
       "      <td>614.000000</td>\n",
       "      <td>614.000000</td>\n",
       "      <td>614.000000</td>\n",
       "      <td>614.000000</td>\n",
       "      <td>614.000000</td>\n",
       "      <td>614.000000</td>\n",
       "      <td>614.000000</td>\n",
       "    </tr>\n",
       "    <tr>\n",
       "      <th>mean</th>\n",
       "      <td>3.853420</td>\n",
       "      <td>120.542345</td>\n",
       "      <td>68.765472</td>\n",
       "      <td>20.244300</td>\n",
       "      <td>79.355049</td>\n",
       "      <td>31.909935</td>\n",
       "      <td>0.466342</td>\n",
       "      <td>33.325733</td>\n",
       "      <td>0.348534</td>\n",
       "    </tr>\n",
       "    <tr>\n",
       "      <th>std</th>\n",
       "      <td>3.358126</td>\n",
       "      <td>31.252286</td>\n",
       "      <td>19.914836</td>\n",
       "      <td>15.886083</td>\n",
       "      <td>117.709950</td>\n",
       "      <td>8.007699</td>\n",
       "      <td>0.331090</td>\n",
       "      <td>11.929569</td>\n",
       "      <td>0.476895</td>\n",
       "    </tr>\n",
       "    <tr>\n",
       "      <th>min</th>\n",
       "      <td>0.000000</td>\n",
       "      <td>0.000000</td>\n",
       "      <td>0.000000</td>\n",
       "      <td>0.000000</td>\n",
       "      <td>0.000000</td>\n",
       "      <td>0.000000</td>\n",
       "      <td>0.078000</td>\n",
       "      <td>21.000000</td>\n",
       "      <td>0.000000</td>\n",
       "    </tr>\n",
       "    <tr>\n",
       "      <th>25%</th>\n",
       "      <td>1.000000</td>\n",
       "      <td>99.000000</td>\n",
       "      <td>62.000000</td>\n",
       "      <td>0.000000</td>\n",
       "      <td>0.000000</td>\n",
       "      <td>27.300000</td>\n",
       "      <td>0.240250</td>\n",
       "      <td>24.000000</td>\n",
       "      <td>0.000000</td>\n",
       "    </tr>\n",
       "    <tr>\n",
       "      <th>50%</th>\n",
       "      <td>3.000000</td>\n",
       "      <td>117.000000</td>\n",
       "      <td>72.000000</td>\n",
       "      <td>23.000000</td>\n",
       "      <td>17.000000</td>\n",
       "      <td>32.000000</td>\n",
       "      <td>0.361000</td>\n",
       "      <td>29.000000</td>\n",
       "      <td>0.000000</td>\n",
       "    </tr>\n",
       "    <tr>\n",
       "      <th>75%</th>\n",
       "      <td>6.000000</td>\n",
       "      <td>139.000000</td>\n",
       "      <td>80.000000</td>\n",
       "      <td>32.000000</td>\n",
       "      <td>126.000000</td>\n",
       "      <td>36.600000</td>\n",
       "      <td>0.613500</td>\n",
       "      <td>41.000000</td>\n",
       "      <td>1.000000</td>\n",
       "    </tr>\n",
       "    <tr>\n",
       "      <th>max</th>\n",
       "      <td>17.000000</td>\n",
       "      <td>197.000000</td>\n",
       "      <td>114.000000</td>\n",
       "      <td>63.000000</td>\n",
       "      <td>846.000000</td>\n",
       "      <td>59.400000</td>\n",
       "      <td>2.420000</td>\n",
       "      <td>81.000000</td>\n",
       "      <td>1.000000</td>\n",
       "    </tr>\n",
       "  </tbody>\n",
       "</table>\n",
       "</div>"
      ],
      "text/plain": [
       "       no_times_pregnant  glucose_concentration  blood_pressure  \\\n",
       "count         614.000000             614.000000      614.000000   \n",
       "mean            3.853420             120.542345       68.765472   \n",
       "std             3.358126              31.252286       19.914836   \n",
       "min             0.000000               0.000000        0.000000   \n",
       "25%             1.000000              99.000000       62.000000   \n",
       "50%             3.000000             117.000000       72.000000   \n",
       "75%             6.000000             139.000000       80.000000   \n",
       "max            17.000000             197.000000      114.000000   \n",
       "\n",
       "       skin_fold_thickness  serum_insulin         bmi  diabetes pedigree  \\\n",
       "count           614.000000     614.000000  614.000000         614.000000   \n",
       "mean             20.244300      79.355049   31.909935           0.466342   \n",
       "std              15.886083     117.709950    8.007699           0.331090   \n",
       "min               0.000000       0.000000    0.000000           0.078000   \n",
       "25%               0.000000       0.000000   27.300000           0.240250   \n",
       "50%              23.000000      17.000000   32.000000           0.361000   \n",
       "75%              32.000000     126.000000   36.600000           0.613500   \n",
       "max              63.000000     846.000000   59.400000           2.420000   \n",
       "\n",
       "              age    diabetes  \n",
       "count  614.000000  614.000000  \n",
       "mean    33.325733    0.348534  \n",
       "std     11.929569    0.476895  \n",
       "min     21.000000    0.000000  \n",
       "25%     24.000000    0.000000  \n",
       "50%     29.000000    0.000000  \n",
       "75%     41.000000    1.000000  \n",
       "max     81.000000    1.000000  "
      ]
     },
     "execution_count": 76,
     "metadata": {},
     "output_type": "execute_result"
    }
   ],
   "source": [
    "#Removing p_Id column because which is not usefult to see min, max values like statictical Information \n",
    "dataset.drop('p_id',axis=1).describe()"
   ]
  },
  {
   "cell_type": "code",
   "execution_count": 77,
   "id": "01f08318",
   "metadata": {},
   "outputs": [
    {
     "data": {
      "text/plain": [
       "0    400\n",
       "1    214\n",
       "Name: diabetes, dtype: int64"
      ]
     },
     "execution_count": 77,
     "metadata": {},
     "output_type": "execute_result"
    }
   ],
   "source": [
    "#Checking for Diabetes, Non Diabetes Couns\n",
    "dataset['diabetes'].value_counts()"
   ]
  },
  {
   "cell_type": "code",
   "execution_count": 78,
   "id": "13e0b064",
   "metadata": {},
   "outputs": [
    {
     "data": {
      "text/html": [
       "<div>\n",
       "<style scoped>\n",
       "    .dataframe tbody tr th:only-of-type {\n",
       "        vertical-align: middle;\n",
       "    }\n",
       "\n",
       "    .dataframe tbody tr th {\n",
       "        vertical-align: top;\n",
       "    }\n",
       "\n",
       "    .dataframe thead th {\n",
       "        text-align: right;\n",
       "    }\n",
       "</style>\n",
       "<table border=\"1\" class=\"dataframe\">\n",
       "  <thead>\n",
       "    <tr style=\"text-align: right;\">\n",
       "      <th></th>\n",
       "      <th>no_times_pregnant</th>\n",
       "      <th>glucose_concentration</th>\n",
       "      <th>blood_pressure</th>\n",
       "      <th>skin_fold_thickness</th>\n",
       "      <th>serum_insulin</th>\n",
       "      <th>bmi</th>\n",
       "      <th>diabetes pedigree</th>\n",
       "      <th>age</th>\n",
       "      <th>diabetes</th>\n",
       "    </tr>\n",
       "  </thead>\n",
       "  <tbody>\n",
       "    <tr>\n",
       "      <th>no_times_pregnant</th>\n",
       "      <td>1.000000</td>\n",
       "      <td>0.123416</td>\n",
       "      <td>0.140526</td>\n",
       "      <td>-0.085653</td>\n",
       "      <td>-0.091123</td>\n",
       "      <td>-0.004101</td>\n",
       "      <td>-0.005811</td>\n",
       "      <td>0.534231</td>\n",
       "      <td>0.209196</td>\n",
       "    </tr>\n",
       "    <tr>\n",
       "      <th>glucose_concentration</th>\n",
       "      <td>0.123416</td>\n",
       "      <td>1.000000</td>\n",
       "      <td>0.160167</td>\n",
       "      <td>0.043053</td>\n",
       "      <td>0.330860</td>\n",
       "      <td>0.222449</td>\n",
       "      <td>0.131274</td>\n",
       "      <td>0.241590</td>\n",
       "      <td>0.469336</td>\n",
       "    </tr>\n",
       "    <tr>\n",
       "      <th>blood_pressure</th>\n",
       "      <td>0.140526</td>\n",
       "      <td>0.160167</td>\n",
       "      <td>1.000000</td>\n",
       "      <td>0.214275</td>\n",
       "      <td>0.088827</td>\n",
       "      <td>0.296000</td>\n",
       "      <td>0.042320</td>\n",
       "      <td>0.236387</td>\n",
       "      <td>0.072003</td>\n",
       "    </tr>\n",
       "    <tr>\n",
       "      <th>skin_fold_thickness</th>\n",
       "      <td>-0.085653</td>\n",
       "      <td>0.043053</td>\n",
       "      <td>0.214275</td>\n",
       "      <td>1.000000</td>\n",
       "      <td>0.439886</td>\n",
       "      <td>0.413288</td>\n",
       "      <td>0.187470</td>\n",
       "      <td>-0.144741</td>\n",
       "      <td>0.052695</td>\n",
       "    </tr>\n",
       "    <tr>\n",
       "      <th>serum_insulin</th>\n",
       "      <td>-0.091123</td>\n",
       "      <td>0.330860</td>\n",
       "      <td>0.088827</td>\n",
       "      <td>0.439886</td>\n",
       "      <td>1.000000</td>\n",
       "      <td>0.200914</td>\n",
       "      <td>0.176183</td>\n",
       "      <td>-0.052863</td>\n",
       "      <td>0.116562</td>\n",
       "    </tr>\n",
       "    <tr>\n",
       "      <th>bmi</th>\n",
       "      <td>-0.004101</td>\n",
       "      <td>0.222449</td>\n",
       "      <td>0.296000</td>\n",
       "      <td>0.413288</td>\n",
       "      <td>0.200914</td>\n",
       "      <td>1.000000</td>\n",
       "      <td>0.116301</td>\n",
       "      <td>0.025209</td>\n",
       "      <td>0.275263</td>\n",
       "    </tr>\n",
       "    <tr>\n",
       "      <th>diabetes pedigree</th>\n",
       "      <td>-0.005811</td>\n",
       "      <td>0.131274</td>\n",
       "      <td>0.042320</td>\n",
       "      <td>0.187470</td>\n",
       "      <td>0.176183</td>\n",
       "      <td>0.116301</td>\n",
       "      <td>1.000000</td>\n",
       "      <td>0.053637</td>\n",
       "      <td>0.173301</td>\n",
       "    </tr>\n",
       "    <tr>\n",
       "      <th>age</th>\n",
       "      <td>0.534231</td>\n",
       "      <td>0.241590</td>\n",
       "      <td>0.236387</td>\n",
       "      <td>-0.144741</td>\n",
       "      <td>-0.052863</td>\n",
       "      <td>0.025209</td>\n",
       "      <td>0.053637</td>\n",
       "      <td>1.000000</td>\n",
       "      <td>0.221736</td>\n",
       "    </tr>\n",
       "    <tr>\n",
       "      <th>diabetes</th>\n",
       "      <td>0.209196</td>\n",
       "      <td>0.469336</td>\n",
       "      <td>0.072003</td>\n",
       "      <td>0.052695</td>\n",
       "      <td>0.116562</td>\n",
       "      <td>0.275263</td>\n",
       "      <td>0.173301</td>\n",
       "      <td>0.221736</td>\n",
       "      <td>1.000000</td>\n",
       "    </tr>\n",
       "  </tbody>\n",
       "</table>\n",
       "</div>"
      ],
      "text/plain": [
       "                       no_times_pregnant  glucose_concentration  \\\n",
       "no_times_pregnant               1.000000               0.123416   \n",
       "glucose_concentration           0.123416               1.000000   \n",
       "blood_pressure                  0.140526               0.160167   \n",
       "skin_fold_thickness            -0.085653               0.043053   \n",
       "serum_insulin                  -0.091123               0.330860   \n",
       "bmi                            -0.004101               0.222449   \n",
       "diabetes pedigree              -0.005811               0.131274   \n",
       "age                             0.534231               0.241590   \n",
       "diabetes                        0.209196               0.469336   \n",
       "\n",
       "                       blood_pressure  skin_fold_thickness  serum_insulin  \\\n",
       "no_times_pregnant            0.140526            -0.085653      -0.091123   \n",
       "glucose_concentration        0.160167             0.043053       0.330860   \n",
       "blood_pressure               1.000000             0.214275       0.088827   \n",
       "skin_fold_thickness          0.214275             1.000000       0.439886   \n",
       "serum_insulin                0.088827             0.439886       1.000000   \n",
       "bmi                          0.296000             0.413288       0.200914   \n",
       "diabetes pedigree            0.042320             0.187470       0.176183   \n",
       "age                          0.236387            -0.144741      -0.052863   \n",
       "diabetes                     0.072003             0.052695       0.116562   \n",
       "\n",
       "                            bmi  diabetes pedigree       age  diabetes  \n",
       "no_times_pregnant     -0.004101          -0.005811  0.534231  0.209196  \n",
       "glucose_concentration  0.222449           0.131274  0.241590  0.469336  \n",
       "blood_pressure         0.296000           0.042320  0.236387  0.072003  \n",
       "skin_fold_thickness    0.413288           0.187470 -0.144741  0.052695  \n",
       "serum_insulin          0.200914           0.176183 -0.052863  0.116562  \n",
       "bmi                    1.000000           0.116301  0.025209  0.275263  \n",
       "diabetes pedigree      0.116301           1.000000  0.053637  0.173301  \n",
       "age                    0.025209           0.053637  1.000000  0.221736  \n",
       "diabetes               0.275263           0.173301  0.221736  1.000000  "
      ]
     },
     "execution_count": 78,
     "metadata": {},
     "output_type": "execute_result"
    }
   ],
   "source": [
    "#Correlation among different features\n",
    "dataset.drop('p_id',axis=1).corr()"
   ]
  },
  {
   "cell_type": "code",
   "execution_count": 79,
   "id": "e648ef3b",
   "metadata": {},
   "outputs": [
    {
     "data": {
      "text/plain": [
       "<AxesSubplot:>"
      ]
     },
     "execution_count": 79,
     "metadata": {},
     "output_type": "execute_result"
    },
    {
     "data": {
      "image/png": "[encoded data removed]",
      "text/plain": [
       "<Figure size 1440x720 with 2 Axes>"
      ]
     },
     "metadata": {
      "needs_background": "light"
     },
     "output_type": "display_data"
    }
   ],
   "source": [
    "#heatmap for correlation among different columns\n",
    "plt.figure(figsize=(20, 10))\n",
    "sns.heatmap(dataset.corr(),cmap=\"BuPu\",annot=True)"
   ]
  },
  {
   "cell_type": "code",
   "execution_count": 80,
   "id": "473a95e8",
   "metadata": {},
   "outputs": [
    {
     "data": {
      "text/plain": [
       "<AxesSubplot:title={'center':'Diabetes and Non-diabetes counts '}, xlabel='Diabetes', ylabel='Number of results'>"
      ]
     },
     "execution_count": 80,
     "metadata": {},
     "output_type": "execute_result"
    },
    {
     "data": {
      "image/png": "[encoded data removed]",
      "text/plain": [
       "<Figure size 432x288 with 1 Axes>"
      ]
     },
     "metadata": {
      "needs_background": "light"
     },
     "output_type": "display_data"
    }
   ],
   "source": [
    "#Simple bargraph for diabetes and non-diabetes count\n",
    "\n",
    "plt.title('Diabetes and Non-diabetes counts ')\n",
    "plt.xlabel('Diabetes')\n",
    "plt.ylabel('Number of results')\n",
    "dataset['diabetes'].value_counts().plot(kind='barh')"
   ]
  },
  {
   "cell_type": "code",
   "execution_count": 81,
   "id": "781d7c5c",
   "metadata": {},
   "outputs": [
    {
     "data": {
      "text/plain": [
       "<AxesSubplot:title={'center':'Diabetes and Non-diabetes'}, xlabel='age', ylabel='Density'>"
      ]
     },
     "execution_count": 81,
     "metadata": {},
     "output_type": "execute_result"
    },
    {
     "data": {
      "image/png": "[encoded data removed]",
      "text/plain": [
       "<Figure size 432x288 with 1 Axes>"
      ]
     },
     "metadata": {
      "needs_background": "light"
     },
     "output_type": "display_data"
    }
   ],
   "source": [
    "plt.title('Diabetes and Non-diabetes')\n",
    "sns.kdeplot(data = dataset,x='age',shade=True,hue='diabetes')"
   ]
  },
  {
   "cell_type": "code",
   "execution_count": 82,
   "id": "92fb9aae",
   "metadata": {},
   "outputs": [],
   "source": [
    "#Identifying Input and target columns\n",
    "X = dataset.iloc[:,1:-1]\n",
    "y = dataset.iloc[:,-1]"
   ]
  },
  {
   "cell_type": "code",
   "execution_count": 36,
   "id": "ea83350f",
   "metadata": {},
   "outputs": [],
   "source": [
    "from sklearn.model_selection import train_test_split"
   ]
  },
  {
   "cell_type": "code",
   "execution_count": 83,
   "id": "babdcd26",
   "metadata": {},
   "outputs": [],
   "source": [
    "#spliting given dataset to train and test\n",
    "X_train,X_test,y_train,y_test = train_test_split(X,y,test_size=0.2,random_state=42)"
   ]
  },
  {
   "cell_type": "code",
   "execution_count": 84,
   "id": "e8096d68",
   "metadata": {},
   "outputs": [
    {
     "name": "stdout",
     "output_type": "stream",
     "text": [
      "(491, 8)\n",
      "(123, 8)\n",
      "(491,)\n",
      "(123,)\n"
     ]
    }
   ],
   "source": [
    "print(X_train.shape)\n",
    "print(X_test.shape)\n",
    "print(y_train.shape)\n",
    "print(y_test.shape)"
   ]
  },
  {
   "cell_type": "markdown",
   "id": "61b49b50",
   "metadata": {},
   "source": [
    "## LogisticRegression"
   ]
  },
  {
   "cell_type": "code",
   "execution_count": 63,
   "id": "721eeb09",
   "metadata": {},
   "outputs": [],
   "source": [
    "from sklearn.linear_model import LogisticRegression\n",
    "from sklearn.metrics import accuracy_score,confusion_matrix"
   ]
  },
  {
   "cell_type": "code",
   "execution_count": 59,
   "id": "dc69d127",
   "metadata": {},
   "outputs": [
    {
     "data": {
      "text/plain": [
       "LogisticRegression(n_jobs=-1)"
      ]
     },
     "execution_count": 59,
     "metadata": {},
     "output_type": "execute_result"
    }
   ],
   "source": [
    "classifier1 = LogisticRegression(n_jobs=-1)\n",
    "classifier1.fit(X_train,y_train)"
   ]
  },
  {
   "cell_type": "code",
   "execution_count": 85,
   "id": "902dbe38",
   "metadata": {},
   "outputs": [],
   "source": [
    "#Predicting trained targets\n",
    "y_train_pred = classifier1.predict(X_train)"
   ]
  },
  {
   "cell_type": "code",
   "execution_count": 87,
   "id": "89af92e1",
   "metadata": {},
   "outputs": [
    {
     "data": {
      "text/plain": [
       "0.7963340122199593"
      ]
     },
     "execution_count": 87,
     "metadata": {},
     "output_type": "execute_result"
    }
   ],
   "source": [
    "#Checking accuracy score for train dataset\n",
    "accuracy_score(y_train,y_train_pred)"
   ]
  },
  {
   "cell_type": "code",
   "execution_count": 88,
   "id": "a1c1584a",
   "metadata": {},
   "outputs": [
    {
     "data": {
      "text/plain": [
       "0.7642276422764228"
      ]
     },
     "execution_count": 88,
     "metadata": {},
     "output_type": "execute_result"
    }
   ],
   "source": [
    "#Checking accuracy score for test dataset\n",
    "accuracy_score(y_test,classifier1.predict(X_test))"
   ]
  },
  {
   "cell_type": "code",
   "execution_count": 64,
   "id": "8341b87f",
   "metadata": {},
   "outputs": [
    {
     "data": {
      "text/plain": [
       "array([[292,  31],\n",
       "       [ 69,  99]], dtype=int64)"
      ]
     },
     "execution_count": 64,
     "metadata": {},
     "output_type": "execute_result"
    }
   ],
   "source": [
    "#Confusion matrix for trained one\n",
    "confusion_matrix(y_train,y_train_pred)"
   ]
  },
  {
   "cell_type": "code",
   "execution_count": 74,
   "id": "bd077978",
   "metadata": {},
   "outputs": [
    {
     "data": {
      "text/plain": [
       "array([[70,  7],\n",
       "       [22, 24]], dtype=int64)"
      ]
     },
     "execution_count": 74,
     "metadata": {},
     "output_type": "execute_result"
    }
   ],
   "source": [
    "#Confusion matrix for test one\n",
    "confusion_matrix(y_test,classifier1.predict(X_test))"
   ]
  },
  {
   "cell_type": "markdown",
   "id": "bd6b936a",
   "metadata": {},
   "source": [
    "## RandomForestClassifier"
   ]
  },
  {
   "cell_type": "code",
   "execution_count": 67,
   "id": "19d1beca",
   "metadata": {},
   "outputs": [],
   "source": [
    "from sklearn.ensemble import RandomForestClassifier"
   ]
  },
  {
   "cell_type": "code",
   "execution_count": 68,
   "id": "7f00326e",
   "metadata": {},
   "outputs": [
    {
     "data": {
      "text/plain": [
       "RandomForestClassifier(n_jobs=-1, random_state=42)"
      ]
     },
     "execution_count": 68,
     "metadata": {},
     "output_type": "execute_result"
    }
   ],
   "source": [
    "classifer2 = RandomForestClassifier(n_jobs=-1,random_state=42)\n",
    "classifer2.fit(X_train,y_train)"
   ]
  },
  {
   "cell_type": "code",
   "execution_count": 69,
   "id": "5b4ae45a",
   "metadata": {},
   "outputs": [],
   "source": [
    "y_train_pred = classifer2.predict(X_train)"
   ]
  },
  {
   "cell_type": "code",
   "execution_count": 70,
   "id": "81995223",
   "metadata": {},
   "outputs": [
    {
     "data": {
      "text/plain": [
       "1.0"
      ]
     },
     "execution_count": 70,
     "metadata": {},
     "output_type": "execute_result"
    }
   ],
   "source": [
    "accuracy_score(y_train,y_train_pred)"
   ]
  },
  {
   "cell_type": "code",
   "execution_count": 71,
   "id": "3fc4575e",
   "metadata": {},
   "outputs": [
    {
     "data": {
      "text/plain": [
       "0.8048780487804879"
      ]
     },
     "execution_count": 71,
     "metadata": {},
     "output_type": "execute_result"
    }
   ],
   "source": [
    "accuracy_score(y_test,classifer2.predict(X_test))"
   ]
  },
  {
   "cell_type": "code",
   "execution_count": 72,
   "id": "5f336d13",
   "metadata": {},
   "outputs": [
    {
     "data": {
      "text/plain": [
       "array([[323,   0],\n",
       "       [  0, 168]], dtype=int64)"
      ]
     },
     "execution_count": 72,
     "metadata": {},
     "output_type": "execute_result"
    }
   ],
   "source": [
    "confusion_matrix(y_train,y_train_pred)"
   ]
  },
  {
   "cell_type": "code",
   "execution_count": 73,
   "id": "ef505658",
   "metadata": {},
   "outputs": [
    {
     "data": {
      "text/plain": [
       "array([[72,  5],\n",
       "       [19, 27]], dtype=int64)"
      ]
     },
     "execution_count": 73,
     "metadata": {},
     "output_type": "execute_result"
    }
   ],
   "source": [
    "confusion_matrix(y_test,classifer2.predict(X_test))"
   ]
  },
  {
   "cell_type": "markdown",
   "id": "cb52a2b2",
   "metadata": {},
   "source": [
    "Hence We got better results using RandomForestClassifier so, we will use this model to predict our kaggle test dateset, Let's load test dataset, why we are waiting here :)"
   ]
  },
  {
   "cell_type": "code",
   "execution_count": 89,
   "id": "710a32bd",
   "metadata": {},
   "outputs": [],
   "source": [
    "dataset_test = pd.read_csv('./diabetes-classification/test.csv')"
   ]
  },
  {
   "cell_type": "code",
   "execution_count": 90,
   "id": "03ae78cc",
   "metadata": {},
   "outputs": [
    {
     "data": {
      "text/html": [
       "<div>\n",
       "<style scoped>\n",
       "    .dataframe tbody tr th:only-of-type {\n",
       "        vertical-align: middle;\n",
       "    }\n",
       "\n",
       "    .dataframe tbody tr th {\n",
       "        vertical-align: top;\n",
       "    }\n",
       "\n",
       "    .dataframe thead th {\n",
       "        text-align: right;\n",
       "    }\n",
       "</style>\n",
       "<table border=\"1\" class=\"dataframe\">\n",
       "  <thead>\n",
       "    <tr style=\"text-align: right;\">\n",
       "      <th></th>\n",
       "      <th>p_id</th>\n",
       "      <th>no_times_pregnant</th>\n",
       "      <th>glucose_concentration</th>\n",
       "      <th>blood_pressure</th>\n",
       "      <th>skin_fold_thickness</th>\n",
       "      <th>serum_insulin</th>\n",
       "      <th>bmi</th>\n",
       "      <th>diabetes pedigree</th>\n",
       "      <th>age</th>\n",
       "    </tr>\n",
       "  </thead>\n",
       "  <tbody>\n",
       "    <tr>\n",
       "      <th>0</th>\n",
       "      <td>437</td>\n",
       "      <td>12</td>\n",
       "      <td>140</td>\n",
       "      <td>85</td>\n",
       "      <td>33</td>\n",
       "      <td>0</td>\n",
       "      <td>37.4</td>\n",
       "      <td>0.244</td>\n",
       "      <td>41</td>\n",
       "    </tr>\n",
       "    <tr>\n",
       "      <th>1</th>\n",
       "      <td>411</td>\n",
       "      <td>6</td>\n",
       "      <td>102</td>\n",
       "      <td>90</td>\n",
       "      <td>39</td>\n",
       "      <td>0</td>\n",
       "      <td>35.7</td>\n",
       "      <td>0.674</td>\n",
       "      <td>28</td>\n",
       "    </tr>\n",
       "    <tr>\n",
       "      <th>2</th>\n",
       "      <td>639</td>\n",
       "      <td>7</td>\n",
       "      <td>97</td>\n",
       "      <td>76</td>\n",
       "      <td>32</td>\n",
       "      <td>91</td>\n",
       "      <td>40.9</td>\n",
       "      <td>0.871</td>\n",
       "      <td>32</td>\n",
       "    </tr>\n",
       "    <tr>\n",
       "      <th>3</th>\n",
       "      <td>213</td>\n",
       "      <td>7</td>\n",
       "      <td>179</td>\n",
       "      <td>95</td>\n",
       "      <td>31</td>\n",
       "      <td>0</td>\n",
       "      <td>34.2</td>\n",
       "      <td>0.164</td>\n",
       "      <td>60</td>\n",
       "    </tr>\n",
       "    <tr>\n",
       "      <th>4</th>\n",
       "      <td>181</td>\n",
       "      <td>6</td>\n",
       "      <td>87</td>\n",
       "      <td>80</td>\n",
       "      <td>0</td>\n",
       "      <td>0</td>\n",
       "      <td>23.2</td>\n",
       "      <td>0.084</td>\n",
       "      <td>32</td>\n",
       "    </tr>\n",
       "  </tbody>\n",
       "</table>\n",
       "</div>"
      ],
      "text/plain": [
       "   p_id  no_times_pregnant  glucose_concentration  blood_pressure  \\\n",
       "0   437                 12                    140              85   \n",
       "1   411                  6                    102              90   \n",
       "2   639                  7                     97              76   \n",
       "3   213                  7                    179              95   \n",
       "4   181                  6                     87              80   \n",
       "\n",
       "   skin_fold_thickness  serum_insulin   bmi  diabetes pedigree  age  \n",
       "0                   33              0  37.4              0.244   41  \n",
       "1                   39              0  35.7              0.674   28  \n",
       "2                   32             91  40.9              0.871   32  \n",
       "3                   31              0  34.2              0.164   60  \n",
       "4                    0              0  23.2              0.084   32  "
      ]
     },
     "execution_count": 90,
     "metadata": {},
     "output_type": "execute_result"
    }
   ],
   "source": [
    "dataset_test.head()"
   ]
  },
  {
   "cell_type": "code",
   "execution_count": 91,
   "id": "f8f8dffe",
   "metadata": {},
   "outputs": [
    {
     "data": {
      "text/html": [
       "<div>\n",
       "<style scoped>\n",
       "    .dataframe tbody tr th:only-of-type {\n",
       "        vertical-align: middle;\n",
       "    }\n",
       "\n",
       "    .dataframe tbody tr th {\n",
       "        vertical-align: top;\n",
       "    }\n",
       "\n",
       "    .dataframe thead th {\n",
       "        text-align: right;\n",
       "    }\n",
       "</style>\n",
       "<table border=\"1\" class=\"dataframe\">\n",
       "  <thead>\n",
       "    <tr style=\"text-align: right;\">\n",
       "      <th></th>\n",
       "      <th>p_id</th>\n",
       "      <th>no_times_pregnant</th>\n",
       "      <th>glucose_concentration</th>\n",
       "      <th>blood_pressure</th>\n",
       "      <th>skin_fold_thickness</th>\n",
       "      <th>serum_insulin</th>\n",
       "      <th>bmi</th>\n",
       "      <th>diabetes pedigree</th>\n",
       "      <th>age</th>\n",
       "    </tr>\n",
       "  </thead>\n",
       "  <tbody>\n",
       "    <tr>\n",
       "      <th>count</th>\n",
       "      <td>154.000000</td>\n",
       "      <td>154.000000</td>\n",
       "      <td>154.000000</td>\n",
       "      <td>154.000000</td>\n",
       "      <td>154.000000</td>\n",
       "      <td>154.000000</td>\n",
       "      <td>154.000000</td>\n",
       "      <td>154.000000</td>\n",
       "      <td>154.000000</td>\n",
       "    </tr>\n",
       "    <tr>\n",
       "      <th>mean</th>\n",
       "      <td>379.422078</td>\n",
       "      <td>3.811688</td>\n",
       "      <td>122.298701</td>\n",
       "      <td>70.461039</td>\n",
       "      <td>21.701299</td>\n",
       "      <td>81.571429</td>\n",
       "      <td>32.322078</td>\n",
       "      <td>0.493942</td>\n",
       "      <td>32.902597</td>\n",
       "    </tr>\n",
       "    <tr>\n",
       "      <th>std</th>\n",
       "      <td>215.338912</td>\n",
       "      <td>3.425719</td>\n",
       "      <td>34.769480</td>\n",
       "      <td>16.935917</td>\n",
       "      <td>16.213095</td>\n",
       "      <td>105.178271</td>\n",
       "      <td>7.386724</td>\n",
       "      <td>0.332439</td>\n",
       "      <td>11.090106</td>\n",
       "    </tr>\n",
       "    <tr>\n",
       "      <th>min</th>\n",
       "      <td>4.000000</td>\n",
       "      <td>0.000000</td>\n",
       "      <td>0.000000</td>\n",
       "      <td>0.000000</td>\n",
       "      <td>0.000000</td>\n",
       "      <td>0.000000</td>\n",
       "      <td>0.000000</td>\n",
       "      <td>0.084000</td>\n",
       "      <td>21.000000</td>\n",
       "    </tr>\n",
       "    <tr>\n",
       "      <th>25%</th>\n",
       "      <td>194.250000</td>\n",
       "      <td>1.000000</td>\n",
       "      <td>97.000000</td>\n",
       "      <td>64.000000</td>\n",
       "      <td>0.000000</td>\n",
       "      <td>0.000000</td>\n",
       "      <td>28.150000</td>\n",
       "      <td>0.248000</td>\n",
       "      <td>24.000000</td>\n",
       "    </tr>\n",
       "    <tr>\n",
       "      <th>50%</th>\n",
       "      <td>383.000000</td>\n",
       "      <td>3.000000</td>\n",
       "      <td>115.000000</td>\n",
       "      <td>72.000000</td>\n",
       "      <td>24.500000</td>\n",
       "      <td>52.000000</td>\n",
       "      <td>32.900000</td>\n",
       "      <td>0.411500</td>\n",
       "      <td>29.500000</td>\n",
       "    </tr>\n",
       "    <tr>\n",
       "      <th>75%</th>\n",
       "      <td>583.250000</td>\n",
       "      <td>6.000000</td>\n",
       "      <td>144.750000</td>\n",
       "      <td>78.000000</td>\n",
       "      <td>33.000000</td>\n",
       "      <td>129.500000</td>\n",
       "      <td>36.200000</td>\n",
       "      <td>0.654750</td>\n",
       "      <td>40.000000</td>\n",
       "    </tr>\n",
       "    <tr>\n",
       "      <th>max</th>\n",
       "      <td>738.000000</td>\n",
       "      <td>14.000000</td>\n",
       "      <td>199.000000</td>\n",
       "      <td>122.000000</td>\n",
       "      <td>99.000000</td>\n",
       "      <td>474.000000</td>\n",
       "      <td>67.100000</td>\n",
       "      <td>2.137000</td>\n",
       "      <td>66.000000</td>\n",
       "    </tr>\n",
       "  </tbody>\n",
       "</table>\n",
       "</div>"
      ],
      "text/plain": [
       "             p_id  no_times_pregnant  glucose_concentration  blood_pressure  \\\n",
       "count  154.000000         154.000000             154.000000      154.000000   \n",
       "mean   379.422078           3.811688             122.298701       70.461039   \n",
       "std    215.338912           3.425719              34.769480       16.935917   \n",
       "min      4.000000           0.000000               0.000000        0.000000   \n",
       "25%    194.250000           1.000000              97.000000       64.000000   \n",
       "50%    383.000000           3.000000             115.000000       72.000000   \n",
       "75%    583.250000           6.000000             144.750000       78.000000   \n",
       "max    738.000000          14.000000             199.000000      122.000000   \n",
       "\n",
       "       skin_fold_thickness  serum_insulin         bmi  diabetes pedigree  \\\n",
       "count           154.000000     154.000000  154.000000         154.000000   \n",
       "mean             21.701299      81.571429   32.322078           0.493942   \n",
       "std              16.213095     105.178271    7.386724           0.332439   \n",
       "min               0.000000       0.000000    0.000000           0.084000   \n",
       "25%               0.000000       0.000000   28.150000           0.248000   \n",
       "50%              24.500000      52.000000   32.900000           0.411500   \n",
       "75%              33.000000     129.500000   36.200000           0.654750   \n",
       "max              99.000000     474.000000   67.100000           2.137000   \n",
       "\n",
       "              age  \n",
       "count  154.000000  \n",
       "mean    32.902597  \n",
       "std     11.090106  \n",
       "min     21.000000  \n",
       "25%     24.000000  \n",
       "50%     29.500000  \n",
       "75%     40.000000  \n",
       "max     66.000000  "
      ]
     },
     "execution_count": 91,
     "metadata": {},
     "output_type": "execute_result"
    }
   ],
   "source": [
    "dataset_test.describe()"
   ]
  },
  {
   "cell_type": "code",
   "execution_count": 92,
   "id": "d89686d9",
   "metadata": {},
   "outputs": [
    {
     "data": {
      "text/plain": [
       "p_id                     0\n",
       "no_times_pregnant        0\n",
       "glucose_concentration    0\n",
       "blood_pressure           0\n",
       "skin_fold_thickness      0\n",
       "serum_insulin            0\n",
       "bmi                      0\n",
       "diabetes pedigree        0\n",
       "age                      0\n",
       "dtype: int64"
      ]
     },
     "execution_count": 92,
     "metadata": {},
     "output_type": "execute_result"
    }
   ],
   "source": [
    "dataset_test.isna().sum()"
   ]
  },
  {
   "cell_type": "code",
   "execution_count": 100,
   "id": "f3797e29",
   "metadata": {},
   "outputs": [],
   "source": [
    "X_test = dataset_test.iloc[:,1:]"
   ]
  },
  {
   "cell_type": "code",
   "execution_count": 103,
   "id": "2e79165d",
   "metadata": {},
   "outputs": [],
   "source": [
    "y_test_pred = classifer2.predict(X_test)"
   ]
  },
  {
   "cell_type": "code",
   "execution_count": 104,
   "id": "fb00c68f",
   "metadata": {},
   "outputs": [
    {
     "data": {
      "text/plain": [
       "array([1, 0, 0, 1, 0, 0, 1, 0, 0, 0, 1, 0, 1, 0, 0, 0, 0, 0, 1, 1, 0, 0,\n",
       "       0, 1, 0, 0, 0, 0, 0, 0, 0, 0, 0, 0, 1, 0, 0, 1, 0, 0, 0, 1, 0, 1,\n",
       "       0, 0, 1, 1, 1, 0, 1, 0, 1, 1, 0, 0, 0, 1, 0, 0, 1, 0, 0, 1, 1, 1,\n",
       "       0, 0, 0, 0, 1, 1, 1, 0, 0, 0, 0, 0, 0, 0, 1, 1, 0, 1, 0, 0, 0, 1,\n",
       "       0, 0, 0, 0, 1, 1, 1, 0, 0, 0, 0, 1, 1, 1, 0, 0, 1, 1, 0, 0, 0, 0,\n",
       "       1, 1, 0, 1, 0, 1, 1, 0, 0, 0, 1, 0, 1, 1, 0, 0, 0, 0, 1, 0, 0, 0,\n",
       "       1, 0, 0, 1, 0, 0, 0, 0, 0, 0, 0, 0, 1, 0, 0, 1, 1, 1, 1, 0, 0, 1],\n",
       "      dtype=int64)"
      ]
     },
     "execution_count": 104,
     "metadata": {},
     "output_type": "execute_result"
    }
   ],
   "source": [
    "y_test_pred"
   ]
  },
  {
   "cell_type": "code",
   "execution_count": 114,
   "id": "c8c4257f",
   "metadata": {},
   "outputs": [],
   "source": [
    "Sample_submission = pd.DataFrame({'p_id': dataset_test['p_id'],'diabetes': y_test_pred})"
   ]
  },
  {
   "cell_type": "code",
   "execution_count": 115,
   "id": "aaee7b03",
   "metadata": {},
   "outputs": [
    {
     "data": {
      "text/html": [
       "<div>\n",
       "<style scoped>\n",
       "    .dataframe tbody tr th:only-of-type {\n",
       "        vertical-align: middle;\n",
       "    }\n",
       "\n",
       "    .dataframe tbody tr th {\n",
       "        vertical-align: top;\n",
       "    }\n",
       "\n",
       "    .dataframe thead th {\n",
       "        text-align: right;\n",
       "    }\n",
       "</style>\n",
       "<table border=\"1\" class=\"dataframe\">\n",
       "  <thead>\n",
       "    <tr style=\"text-align: right;\">\n",
       "      <th></th>\n",
       "      <th>p_id</th>\n",
       "      <th>diabetes</th>\n",
       "    </tr>\n",
       "  </thead>\n",
       "  <tbody>\n",
       "    <tr>\n",
       "      <th>0</th>\n",
       "      <td>437</td>\n",
       "      <td>1</td>\n",
       "    </tr>\n",
       "    <tr>\n",
       "      <th>1</th>\n",
       "      <td>411</td>\n",
       "      <td>0</td>\n",
       "    </tr>\n",
       "    <tr>\n",
       "      <th>2</th>\n",
       "      <td>639</td>\n",
       "      <td>0</td>\n",
       "    </tr>\n",
       "    <tr>\n",
       "      <th>3</th>\n",
       "      <td>213</td>\n",
       "      <td>1</td>\n",
       "    </tr>\n",
       "    <tr>\n",
       "      <th>4</th>\n",
       "      <td>181</td>\n",
       "      <td>0</td>\n",
       "    </tr>\n",
       "  </tbody>\n",
       "</table>\n",
       "</div>"
      ],
      "text/plain": [
       "   p_id  diabetes\n",
       "0   437         1\n",
       "1   411         0\n",
       "2   639         0\n",
       "3   213         1\n",
       "4   181         0"
      ]
     },
     "execution_count": 115,
     "metadata": {},
     "output_type": "execute_result"
    }
   ],
   "source": [
    "Sample_submission.head()"
   ]
  },
  {
   "cell_type": "code",
   "execution_count": 116,
   "id": "02357d7f",
   "metadata": {},
   "outputs": [],
   "source": [
    "Sample_submission.to_csv('RF_submission.csv',index = False)"
   ]
  },
  {
   "cell_type": "markdown",
   "id": "8df07b71",
   "metadata": {},
   "source": [
    "Thanks, please give us suggestion on this model"
   ]
  },
  {
   "cell_type": "code",
   "execution_count": null,
   "id": "48f810dd",
   "metadata": {},
   "outputs": [],
   "source": []
  }
 ],
 "metadata": {
  "kernelspec": {
   "display_name": "Python 3",
   "language": "python",
   "name": "python3"
  },
  "language_info": {
   "codemirror_mode": {
    "name": "ipython",
    "version": 3
   },
   "file_extension": ".py",
   "mimetype": "text/x-python",
   "name": "python",
   "nbconvert_exporter": "python",
   "pygments_lexer": "ipython3",
   "version": "3.8.8"
  }
 },
 "nbformat": 4,
 "nbformat_minor": 5
}
